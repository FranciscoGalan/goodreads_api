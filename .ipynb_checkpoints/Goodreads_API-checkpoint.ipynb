{
 "cells": [
  {
   "cell_type": "markdown",
   "metadata": {},
   "source": [
    "# API de Goodreads\n",
    "\n",
    "En este proyecto utilizaré el API de la página Goodreads para recopilar la información de mi perfil. En total, me interesa generar dos bases de datos: una sobre los libros que leído y otra sobre los libros que quiero leer. No obstante, el código que utilizaré a continuación se puede emplear para obtener la información de cualquier usuario.\n",
    "\n",
    "NOTA: Con respecto a los términos y condiciones del API de la página, debo ser cuidadoso con uno en particular: \"Not request any method more than once a second. Goodreads tracks all requests made by developers\".\n",
    "\n",
    "#### Algunos aspectos que me gustaría incluir después:\n",
    "- Extraer información de todos los usuarios de México.\n",
    "- Un programa que me sugiera cuál libro debo leer, considerando mis preferencias y las recomendaciones de los usuarios a los que sigo. \n",
    "\n",
    "#### Mejoras pendientes a mi código:\n",
    "- Manejar errores, con try/except, en los GET requests.\n",
    "- Optimizar mi función principal para que se vea más limpia con loops. No super cómo hacerlo, considerando que debo cambiar de página y cambia el código html. Una vez que logre hacer esto, podré agregarle, también, un parametro para elegir las etiquetas que queremos seleccionar.\n"
   ]
  },
  {
   "cell_type": "markdown",
   "metadata": {},
   "source": [
    "## I. Obtener información de mi perfil"
   ]
  },
  {
   "cell_type": "markdown",
   "metadata": {},
   "source": [
    "Comienzo por importar las librerías que utilizaré:"
   ]
  },
  {
   "cell_type": "code",
   "execution_count": 1,
   "metadata": {},
   "outputs": [],
   "source": [
    "import requests\n",
    "from bs4 import BeautifulSoup\n",
    "import time\n",
    "import pandas as pd\n",
    "import re"
   ]
  },
  {
   "cell_type": "markdown",
   "metadata": {},
   "source": [
    "A su vez, defino algunas variables importantes que utilizaré en todo el proceso, incluyendo el key que generé directamente en la página de Goodreads:"
   ]
  },
  {
   "cell_type": "code",
   "execution_count": 5,
   "metadata": {},
   "outputs": [],
   "source": [
    "CONSUMER_KEY = 'PnnwwD2CW9RtBv6YqsjYw'\n",
    "CONSUMER_SECRET = 'S1jfjAZpNn1dH6iRBWgDINoFp8G2ucwJa1C2OHg70xw'\n",
    "url = \"https://www.goodreads.com/\"\n",
    "id_francisco_galan = '40732498'"
   ]
  },
  {
   "cell_type": "markdown",
   "metadata": {},
   "source": [
    "### 1.1 Obtener código html de libreros"
   ]
  },
  {
   "cell_type": "markdown",
   "metadata": {},
   "source": [
    "Con la siguiente función hago un GET request para obtener el código html de un librero. La función permite seleccionar el librero que me interesa, ya sea el de libros leídos (`'read'`) o de libros que quiero leer (`'to-read'`). \n",
    "\n",
    "Es importante recalcar que la función solo obtiene el códido de UNA página que despliega 200 libros. Es decir, si en el librero hay más de 200, hay que volver a llamar la función pero especificándole que queremos la segunda página o alguna sucesiva.\n",
    "\n",
    "NOTA: Con respecto a los términos y condiciones del API de la página, debo ser cuidadoso con uno en particular: \"Not request any method more than once a second. Goodreads tracks all requests made by developers\"."
   ]
  },
  {
   "cell_type": "code",
   "execution_count": 3,
   "metadata": {},
   "outputs": [],
   "source": [
    "def shelf_info(user_id, shelf, page):\n",
    "  \n",
    "    \"\"\"Arroja un BeautifulSoup object de una página del librero de un usuario\"\"\"\n",
    "    \n",
    "    time.sleep(1.1) # Para cumplir con los términos y condiciones de Goodreads\n",
    "    info = requests.get(f'{url}/review/list?v=2&id={user_id}&shelf={shelf}&sort=title&page={page}&per_page=200&key={CONSUMER_KEY}')\n",
    "    print('Status code: ', info.status_code)\n",
    "    info_content = info.content\n",
    "    soup = BeautifulSoup(info_content, 'lxml')\n",
    "    return soup"
   ]
  },
  {
   "cell_type": "markdown",
   "metadata": {},
   "source": [
    "### 1.2 Explorar los tags relevantes"
   ]
  },
  {
   "cell_type": "markdown",
   "metadata": {},
   "source": [
    "Exploremos el código html de un libro para saber qué tags deberemos utilizar en nuestra extracción posterior de datos. "
   ]
  },
  {
   "cell_type": "code",
   "execution_count": 4,
   "metadata": {
    "scrolled": true
   },
   "outputs": [
    {
     "ename": "NameError",
     "evalue": "name 'my_id' is not defined",
     "output_type": "error",
     "traceback": [
      "\u001b[0;31m---------------------------------------------------------------------------\u001b[0m",
      "\u001b[0;31mNameError\u001b[0m                                 Traceback (most recent call last)",
      "\u001b[0;32m<ipython-input-4-7334c0a3b2ae>\u001b[0m in \u001b[0;36m<module>\u001b[0;34m\u001b[0m\n\u001b[0;32m----> 1\u001b[0;31m \u001b[0mleidos_p1\u001b[0m \u001b[0;34m=\u001b[0m \u001b[0mshelf_info\u001b[0m\u001b[0;34m(\u001b[0m\u001b[0mmy_id\u001b[0m\u001b[0;34m,\u001b[0m \u001b[0;34m'read'\u001b[0m\u001b[0;34m,\u001b[0m \u001b[0;36m1\u001b[0m\u001b[0;34m)\u001b[0m\u001b[0;34m\u001b[0m\u001b[0;34m\u001b[0m\u001b[0m\n\u001b[0m",
      "\u001b[0;31mNameError\u001b[0m: name 'my_id' is not defined"
     ]
    }
   ],
   "source": [
    "leidos_p1 = shelf_info(id_francisco_galan, 'read', 1)"
   ]
  },
  {
   "cell_type": "code",
   "execution_count": null,
   "metadata": {},
   "outputs": [],
   "source": [
    "print(leidos_p1.prettify())"
   ]
  },
  {
   "cell_type": "markdown",
   "metadata": {},
   "source": [
    "Podemos ver que el registro de cada libro comienza con la etiqueta `review`. Imprimamos el código del primer libro de la lista para identificar mejor las etiquetas:"
   ]
  },
  {
   "cell_type": "code",
   "execution_count": null,
   "metadata": {},
   "outputs": [],
   "source": [
    "print(leidos_p1.find('review').prettify())"
   ]
  },
  {
   "cell_type": "markdown",
   "metadata": {},
   "source": [
    "No toda la información del libro me interesa. Las etiquetas que sí me interesan son estas: `id`, `isbn`, `title`, `link/`, `num_pages`, `publisher`, `publication_year`, `average_rating`, `ratings_count`, `name`, `rating`.\n",
    "\n",
    "Sin embargo, en lo que sigue, debo ser cuidadoso con las tags que se repiten, como `average_rating` y `ratings_count`, puesto que es la información tanto del libro como del autor del libro en específico. Quizá por eso mejor conviene poner esas etiquetas por separado.\n",
    "\n",
    "Asimismo, la etiqueta de `link\\` se repite varias veces. Y no solo eso, sino que me es difícil identificar una etiqueta clara con que la pueda extraer, por lo que quizá requiera un procedimiento distinto."
   ]
  },
  {
   "cell_type": "code",
   "execution_count": null,
   "metadata": {},
   "outputs": [],
   "source": [
    "tags_unique = ['isbn', 'title', 'num_pages', 'publisher', 'publication_year', 'name', 'rating']\n",
    "tags_repetidas = ['average_rating', 'ratings_count']\n",
    "# Sin olvidar que también quiero extraer el link a la página de goodreads."
   ]
  },
  {
   "cell_type": "markdown",
   "metadata": {},
   "source": [
    "### 1.3 Extraer información de un librero"
   ]
  },
  {
   "cell_type": "markdown",
   "metadata": {},
   "source": [
    "Las dos siguientes funciones permiten extraer la información de un librero de un usuario. \n",
    "\n",
    "La primera nos dice cuántas páginas necesitamos considerar, puesto que goodreads despliega 200 libros, como máximo, por página por estante."
   ]
  },
  {
   "cell_type": "code",
   "execution_count": null,
   "metadata": {},
   "outputs": [],
   "source": [
    "def paginas_por_estante(libros_en_estante):\n",
    "    \"\"\"Nos dice cuántas páginas se requieren para mostrar esa cantidad de libros\"\"\"\n",
    "    \n",
    "    if libros_en_estante <= 200:\n",
    "        return 1\n",
    "    \n",
    "    elif libros_en_estante <= 400:\n",
    "        return 2\n",
    "    \n",
    "    elif libros_en_estante <= 600:\n",
    "        return 3\n",
    "    \n",
    "    elif libros_en_estante <= 800:\n",
    "        return 4\n",
    "    \n",
    "    elif libros_en_estante <= 1000:\n",
    "        return 5\n",
    "    \n",
    "    elif libros_en_estante <= 1200:\n",
    "        return 6"
   ]
  },
  {
   "cell_type": "markdown",
   "metadata": {},
   "source": [
    "A continuación está la función principal que extrae todo:"
   ]
  },
  {
   "cell_type": "code",
   "execution_count": null,
   "metadata": {},
   "outputs": [],
   "source": [
    "def extract_info(user_id, shelf, libros_en_estante):\n",
    "    \n",
    "    diccionario = {}\n",
    "    \n",
    "    # Definir variables de mis tags para ir agregando información mientras avanzo por varias páginas.\n",
    "    isbn = []\n",
    "    title = []\n",
    "    num_pages = []\n",
    "    publisher = []\n",
    "    publication_year = []\n",
    "    name = []\n",
    "    rating = []\n",
    "    average_rating = []\n",
    "    ratings_count = []\n",
    "    links = []\n",
    "    \n",
    "    #Determinar cuántas páginas consideraremos dentro del estante.\n",
    "    paginas_to_scrap = paginas_por_estante(libros_en_estante)\n",
    "    \n",
    "    # Extraer información de cada una de las páginas\n",
    "    for x in range(1, paginas_to_scrap+1):\n",
    "        \n",
    "        # Obtener código html en formato Soup\n",
    "        page = shelf_info(user_id, shelf=shelf, page=x)\n",
    "        \n",
    "        # Obtener información de tags que no se repiten\n",
    "        \n",
    "        isbn_info = page.find_all(f'isbn')\n",
    "        isbn_info = [elem.get_text() for elem in isbn_info]\n",
    "        isbn.append(isbn_info)\n",
    "        \n",
    "        title_info = page.find_all(f'title')\n",
    "        title_info = [elem.get_text() for elem in title_info]\n",
    "        title.append(title_info)\n",
    "        \n",
    "        publisher_info = page.find_all(f'publisher')\n",
    "        publisher_info = [elem.get_text() for elem in publisher_info]\n",
    "        publisher.append(publisher_info)\n",
    "        \n",
    "        num_pages_info = page.find_all(f'num_pages')\n",
    "        num_pages_info = [elem.get_text() for elem in num_pages_info]\n",
    "        num_pages.append(num_pages_info)\n",
    "        \n",
    "        publication_year_info = page.find_all(f'publication_year')\n",
    "        publication_year_info = [elem.get_text() for elem in publication_year_info]\n",
    "        publication_year.append(publication_year_info)\n",
    "        \n",
    "        name_info = page.find_all(f'name')\n",
    "        name_info = [elem.get_text() for elem in name_info]\n",
    "        name.append(name_info)\n",
    "        \n",
    "        rating_info = page.find_all(f'rating')\n",
    "        rating_info = [elem.get_text() for elem in rating_info]\n",
    "        rating.append(rating_info)\n",
    "        \n",
    "        # Obtener información de tags que se repiten\n",
    "        review_blocks = page.find_all('review')\n",
    "        link_pattern = re.compile(r'www.goodreads.com.*')\n",
    "        \n",
    "        for review in review_blocks: \n",
    "            average_rating_info = review.find(f'average_rating').get_text()\n",
    "            average_rating.append(average_rating_info)\n",
    "\n",
    "            ratings_count_info = review.find(f'ratings_count').get_text()\n",
    "            ratings_count.append(ratings_count_info)\n",
    "            \n",
    "            # Obtener links        \n",
    "            if link_pattern.search(review.get_text()):\n",
    "                link = re.findall(link_pattern, review.get_text()) \n",
    "                links.append(link)\n",
    "    \n",
    "            else: \n",
    "                print('Missing: ', review.title)\n",
    "    \n",
    "    # Aplanar variables con listas dentro de una lista\n",
    "    isbn = [elem for listt in isbn for elem in listt]\n",
    "    title = [elem for listt in title for elem in listt]\n",
    "    num_pages = [elem for listt in num_pages for elem in listt]\n",
    "    publisher = [elem for listt in publisher for elem in listt]\n",
    "    publication_year = [elem for listt in publication_year for elem in listt]\n",
    "    name = [elem for listt in name for elem in listt]\n",
    "    rating = [elem for listt in rating for elem in listt]\n",
    "    \n",
    "    # Pasar todo a un diccionario\n",
    "    diccionario[f'user_id'] = [user_id for x in range(0, len(isbn))]\n",
    "    diccionario[f'shelf'] = [shelf for x in range(0, len(isbn))]\n",
    "    \n",
    "    diccionario[f'isbn'] = isbn\n",
    "    diccionario[f'title'] = title\n",
    "    diccionario[f'author'] = name\n",
    "    diccionario[f'num_pages'] = num_pages\n",
    "    diccionario[f'publication_year'] = publication_year\n",
    "    diccionario[f'publisher'] = publisher\n",
    "    \n",
    "    diccionario[f'average_rating'] = average_rating\n",
    "    diccionario[f'ratings_count'] = ratings_count\n",
    "    diccionario[f'links'] = links\n",
    "        \n",
    "    return diccionario"
   ]
  },
  {
   "cell_type": "markdown",
   "metadata": {},
   "source": [
    "La función ciertamente no luce tan elegante como debería; en particular, requiere mayor uso de loops. Sin embargo, el problema que encontré fue simultánemente cambiar de página y emplear loops. No hallé una forma de hacerlo."
   ]
  },
  {
   "cell_type": "markdown",
   "metadata": {},
   "source": [
    "### 1.4 Información de mi perfil"
   ]
  },
  {
   "cell_type": "markdown",
   "metadata": {},
   "source": [
    "#### a) Estante de libros leídos"
   ]
  },
  {
   "cell_type": "code",
   "execution_count": null,
   "metadata": {
    "scrolled": false
   },
   "outputs": [],
   "source": [
    "leido_francisco_galan = extract_info(id_francisco_galan, 'read', 276)"
   ]
  },
  {
   "cell_type": "markdown",
   "metadata": {},
   "source": [
    "#### b) Estante de libros por leer"
   ]
  },
  {
   "cell_type": "code",
   "execution_count": null,
   "metadata": {
    "scrolled": true
   },
   "outputs": [],
   "source": [
    "por_leer_francisco_galan = extract_info(id_francisco_galan, 'to-read', 104)"
   ]
  },
  {
   "cell_type": "markdown",
   "metadata": {},
   "source": [
    "## II. Obtener bases de datos en pandas"
   ]
  },
  {
   "cell_type": "markdown",
   "metadata": {},
   "source": [
    "Ahora ya tenemos una función que almacena toda la información del estante de un usuario en un diccionario. Procedamos ahora a pasar la información a una base de datos en pandas."
   ]
  },
  {
   "cell_type": "markdown",
   "metadata": {},
   "source": [
    "### 2.1 Generar DataFrames"
   ]
  },
  {
   "cell_type": "markdown",
   "metadata": {},
   "source": [
    "Antes de pasar la información a formato DataFrame en pandas, chequemos que todas las variables tengan la misma extensión:"
   ]
  },
  {
   "cell_type": "code",
   "execution_count": null,
   "metadata": {},
   "outputs": [],
   "source": [
    "def check_variables_length(dictionary):\n",
    "    for x, y in dictionary.items():\n",
    "        print(f'{x}: ', len(y))"
   ]
  },
  {
   "cell_type": "code",
   "execution_count": null,
   "metadata": {},
   "outputs": [],
   "source": [
    "check_variables_length(leido_francisco_galan)"
   ]
  },
  {
   "cell_type": "markdown",
   "metadata": {},
   "source": [
    "Ahora sí, pasemos los datos a un DataFrame"
   ]
  },
  {
   "cell_type": "code",
   "execution_count": null,
   "metadata": {},
   "outputs": [],
   "source": [
    "pd.DataFrame(leido_francisco_galan)"
   ]
  },
  {
   "cell_type": "code",
   "execution_count": null,
   "metadata": {},
   "outputs": [],
   "source": [
    "check_variables_length(por_leer_francisco_galan)"
   ]
  },
  {
   "cell_type": "code",
   "execution_count": null,
   "metadata": {},
   "outputs": [],
   "source": [
    "pd.DataFrame(por_leer_francisco_galan)"
   ]
  },
  {
   "cell_type": "markdown",
   "metadata": {},
   "source": [
    "### 2.2 Limpiar columnas"
   ]
  },
  {
   "cell_type": "markdown",
   "metadata": {},
   "source": [
    "### 2.3 Revisar tipos de variables"
   ]
  },
  {
   "cell_type": "markdown",
   "metadata": {},
   "source": [
    "### 2.4 Fill missing values"
   ]
  },
  {
   "cell_type": "markdown",
   "metadata": {},
   "source": [
    "### 2.5 Exportar como Excel"
   ]
  }
 ],
 "metadata": {
  "kernelspec": {
   "display_name": "Python 3",
   "language": "python",
   "name": "python3"
  },
  "language_info": {
   "codemirror_mode": {
    "name": "ipython",
    "version": 3
   },
   "file_extension": ".py",
   "mimetype": "text/x-python",
   "name": "python",
   "nbconvert_exporter": "python",
   "pygments_lexer": "ipython3",
   "version": "3.8.3"
  }
 },
 "nbformat": 4,
 "nbformat_minor": 4
}
